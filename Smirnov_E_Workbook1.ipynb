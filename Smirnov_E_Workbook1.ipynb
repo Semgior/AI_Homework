{
 "cells": [
  {
   "cell_type": "code",
   "execution_count": 2,
   "id": "fd3cdf1a",
   "metadata": {},
   "outputs": [
    {
     "name": "stdout",
     "output_type": "stream",
     "text": [
      "True | <class 'bool'> \n",
      " {8, 1, 3, 7} | <class 'set'> \n",
      " {2, 4, 5, 'apple', 10} | <class 'set'> \n",
      "\n",
      "set() | <class 'set'> \n",
      " ('Антонова Антонина', 34, 'ж') | <class 'tuple'> \n",
      " type | <class 'str'> \n",
      "\n",
      "[1, 'title', 2, 'content'] | <class 'list'>\n"
     ]
    }
   ],
   "source": [
    "x = 5 >= 2\n",
    "a = {1, 3, 7, 8}\n",
    "b = {2, 4, 5, 10, 'apple'}\n",
    "c = a & b\n",
    "df = 'Антонова Антонина', 34, 'ж'\n",
    "z = 'type'\n",
    "d = [1, 'title', 2, 'content']\n",
    "print(x, '|', type(x), '\\n', a, '|', type(a), '\\n', b, '|', type(b), '\\n')\n",
    "print(c, '|', type(c), '\\n', df, '|', type(df), '\\n', z, '|', type(z), '\\n')\n",
    "print(d, '|', type(d))"
   ]
  },
  {
   "cell_type": "code",
   "execution_count": 6,
   "id": "eb118e6e",
   "metadata": {},
   "outputs": [
    {
     "name": "stdout",
     "output_type": "stream",
     "text": [
      "98\n",
      "принадлежит: (5, +infinity)\n"
     ]
    }
   ],
   "source": [
    "x = int(input())\n",
    "if (x < (-5)):\n",
    "    print(\"принадлежит: (-infinity, -5)\")\n",
    "elif (x >= (-5) and x <= 5):\n",
    "    print(\"принадлежит: [-5, 5]\")\n",
    "else:\n",
    "    print(\"принадлежит: (5, +infinity)\")"
   ]
  },
  {
   "cell_type": "code",
   "execution_count": 7,
   "id": "92db16b9",
   "metadata": {},
   "outputs": [
    {
     "name": "stdout",
     "output_type": "stream",
     "text": [
      "10\n",
      "7\n",
      "4\n",
      "1\n"
     ]
    }
   ],
   "source": [
    "x = 10\n",
    "while x >= 1:\n",
    "    print(x)\n",
    "    x -= 3"
   ]
  },
  {
   "cell_type": "code",
   "execution_count": 8,
   "id": "b06e4083",
   "metadata": {},
   "outputs": [
    {
     "name": "stdout",
     "output_type": "stream",
     "text": [
      "Возраст\n",
      "Пол\n",
      "Рост\n"
     ]
    }
   ],
   "source": [
    "spisok = ['Возраст', 'Пол', 'Рост']\n",
    "for model in spisok:\n",
    "    print(model)"
   ]
  },
  {
   "cell_type": "code",
   "execution_count": 9,
   "id": "e83071c4",
   "metadata": {},
   "outputs": [
    {
     "name": "stdout",
     "output_type": "stream",
     "text": [
      "[2, 3, 4, 5, 6, 7, 8, 9, 10, 11, 12, 13, 14, 15]\n"
     ]
    }
   ],
   "source": [
    "list_int = range(2, 16, 1)\n",
    "print(list(list_int))"
   ]
  },
  {
   "cell_type": "code",
   "execution_count": 13,
   "id": "eed9123c",
   "metadata": {},
   "outputs": [
    {
     "name": "stdout",
     "output_type": "stream",
     "text": [
      "105\n",
      "80\n",
      "55\n",
      "30\n",
      "5\n"
     ]
    }
   ],
   "source": [
    "for i in range (105, 4, -25):\n",
    "    print(i)"
   ]
  },
  {
   "cell_type": "code",
   "execution_count": 27,
   "id": "defaff33",
   "metadata": {},
   "outputs": [
    {
     "name": "stdout",
     "output_type": "stream",
     "text": [
      "[8, 1, 6, 3, 4, 5, 2, 7, 0, 9]\n"
     ]
    }
   ],
   "source": [
    "x = [0, 1, 2, 3, 4, 5, 6, 7, 8, 9]\n",
    "x[:: 2] = reversed(x[0:: 2])\n",
    "print(x)"
   ]
  },
  {
   "cell_type": "code",
   "execution_count": null,
   "id": "164e432f",
   "metadata": {},
   "outputs": [],
   "source": [
    "\n"
   ]
  },
  {
   "cell_type": "code",
   "execution_count": null,
   "id": "9da2e126",
   "metadata": {},
   "outputs": [],
   "source": []
  }
 ],
 "metadata": {
  "kernelspec": {
   "display_name": "Python 3 (ipykernel)",
   "language": "python",
   "name": "python3"
  },
  "language_info": {
   "codemirror_mode": {
    "name": "ipython",
    "version": 3
   },
   "file_extension": ".py",
   "mimetype": "text/x-python",
   "name": "python",
   "nbconvert_exporter": "python",
   "pygments_lexer": "ipython3",
   "version": "3.11.1"
  }
 },
 "nbformat": 4,
 "nbformat_minor": 5
}
